{
 "cells": [
  {
   "cell_type": "markdown",
   "metadata": {},
   "source": [
    "# Reading of data "
   ]
  },
  {
   "cell_type": "code",
   "execution_count": 1,
   "metadata": {},
   "outputs": [],
   "source": [
    "import pandas as pd\n",
    "from sklearn import metrics\n",
    "import numpy as np\n",
    "import pandas as pd\n",
    "import matplotlib.pyplot as plt\n",
    "import seaborn as sns\n",
    "import datetime as dt\n",
    "data = pd.read_csv(\"problem_2_train.csv\")"
   ]
  },
  {
   "cell_type": "markdown",
   "metadata": {},
   "source": [
    "# Changing date to numeric form"
   ]
  },
  {
   "cell_type": "code",
   "execution_count": 2,
   "metadata": {},
   "outputs": [],
   "source": [
    "data['memcreateddate']=pd.to_datetime(data['memcreateddate'])\n",
    "data['memcreateddate']=pd.to_numeric(data['memcreateddate'])\n",
    "\n",
    "\n",
    "data['claimintdate']=pd.to_datetime(data['claimintdate'])\n",
    "data['claimintdate']=pd.to_numeric(data['claimintdate'])\n",
    "\n",
    "\n",
    "data['pickupStartdate']=pd.to_datetime(data['pickupStartdate'])\n",
    "data['pickupStartdate']=pd.to_numeric(data['pickupStartdate'])\n",
    "\n",
    "\n",
    "data['mobilepurchasedate']=pd.to_datetime(data['mobilepurchasedate'])\n",
    "data['mobilepurchasedate']=pd.to_numeric(data['mobilepurchasedate'])\n"
   ]
  },
  {
   "cell_type": "markdown",
   "metadata": {},
   "source": [
    "# changing Label to numeric form"
   ]
  },
  {
   "cell_type": "code",
   "execution_count": 3,
   "metadata": {
    "scrolled": true
   },
   "outputs": [],
   "source": [
    "a=data.claimtype[0]\n",
    "def x(types):\n",
    "    if types== a:\n",
    "        types= 1\n",
    "    else:\n",
    "        types=2\n",
    "    return types\n",
    "data['claimtype']=data['claimtype'].apply(x)\n",
    "\n",
    "from sklearn.preprocessing import LabelEncoder\n",
    "labelEncoder = LabelEncoder()\n",
    "data['mobmake'] = labelEncoder.fit_transform(data['mobmake'])\n",
    "data['custpincodecategory']=labelEncoder.fit_transform(data['custpincodecategory'])"
   ]
  },
  {
   "cell_type": "markdown",
   "metadata": {},
   "source": [
    "# Linear Regression"
   ]
  },
  {
   "cell_type": "code",
   "execution_count": 4,
   "metadata": {},
   "outputs": [
    {
     "name": "stdout",
     "output_type": "stream",
     "text": [
      "4.702417409708137\n"
     ]
    }
   ],
   "source": [
    "\n",
    "from sklearn.linear_model import LogisticRegression\n",
    "X=data[['mobmake','srno','hubid','hubpincode','deliverypartnerid','insuranceCompanyId','custpincodecategory','claimtype','custpincode','claimintdate','servicecntrid','pickupStartdate']]\n",
    "y=data['tat_in_days']\n",
    "\n",
    "from sklearn.model_selection import train_test_split\n",
    "X_train,X_test,y_train,y_test=train_test_split(X,y,random_state=1,test_size=0.7)\n",
    "from sklearn.linear_model import LinearRegression\n",
    "\n",
    "linreg = LinearRegression()\n",
    "linreg.fit(X_train,y_train)\n",
    "list(zip(X,linreg.coef_))\n",
    "\n",
    "\n",
    "y_pred=linreg.predict(X_test)\n",
    "m=np.sqrt(metrics.mean_squared_error(y_test,y_pred))\n",
    "print(m)"
   ]
  },
  {
   "cell_type": "markdown",
   "metadata": {
    "scrolled": false
   },
   "source": [
    "# Gradient boost"
   ]
  },
  {
   "cell_type": "code",
   "execution_count": 5,
   "metadata": {},
   "outputs": [
    {
     "data": {
      "text/plain": [
       "4.325671188571321"
      ]
     },
     "execution_count": 5,
     "metadata": {},
     "output_type": "execute_result"
    }
   ],
   "source": [
    "\n",
    "X=data[['mobmake','srno','hubid','hubpincode','deliverypartnerid','insuranceCompanyId','custpincodecategory','claimtype','custpincode','claimintdate']]\n",
    "y=data['tat_in_days']\n",
    "\n",
    "from sklearn.model_selection import train_test_split\n",
    "X_train,X_test,y_train,y_test=train_test_split(X,y,random_state=1,test_size=0.7)\n",
    "\n",
    "\n",
    "from sklearn.ensemble import GradientBoostingRegressor\n",
    "grade = GradientBoostingRegressor(n_estimators=500)\n",
    "grade.fit(X_train,y_train)\n",
    "y_pred = grade.predict(X_test)\n",
    "np.sqrt(metrics.mean_squared_error(y_pred,y_test))\n"
   ]
  },
  {
   "cell_type": "markdown",
   "metadata": {},
   "source": [
    "# Knn"
   ]
  },
  {
   "cell_type": "code",
   "execution_count": 6,
   "metadata": {},
   "outputs": [
    {
     "data": {
      "text/plain": [
       "6.62982462333269"
      ]
     },
     "execution_count": 6,
     "metadata": {},
     "output_type": "execute_result"
    }
   ],
   "source": [
    "X=data[['mobmake','srno','hubid','hubpincode','deliverypartnerid','insuranceCompanyId','custpincodecategory','claimtype','custpincode','claimintdate']]\n",
    "y=data['tat_in_days']\n",
    "\n",
    "from sklearn.model_selection import train_test_split\n",
    "\n",
    "X_train,X_test,y_train,y_test=train_test_split(X,y,random_state=1)\n",
    "\n",
    "from sklearn.neighbors import KNeighborsClassifier  \n",
    "clf = KNeighborsClassifier(n_neighbors=5)  \n",
    "clf.fit(X_train, y_train)\n",
    "y_expect=y_test\n",
    "y_pred=clf.predict(X_test)\n",
    "\n",
    "np.sqrt(metrics.mean_squared_error(y_pred,y_test))"
   ]
  },
  {
   "cell_type": "markdown",
   "metadata": {},
   "source": [
    "# Rigid regression"
   ]
  },
  {
   "cell_type": "code",
   "execution_count": 7,
   "metadata": {},
   "outputs": [
    {
     "name": "stderr",
     "output_type": "stream",
     "text": [
      "c:\\users\\tanish mahajan\\appdata\\local\\programs\\python\\python37-32\\lib\\site-packages\\sklearn\\linear_model\\ridge.py:147: LinAlgWarning: Ill-conditioned matrix (rcond=2.59736e-34): result may not be accurate.\n",
      "  overwrite_a=True).T\n"
     ]
    },
    {
     "data": {
      "text/plain": [
       "5.026377316466046"
      ]
     },
     "execution_count": 7,
     "metadata": {},
     "output_type": "execute_result"
    }
   ],
   "source": [
    "X=data[['mobmake','srno','hubid','hubpincode','deliverypartnerid','insuranceCompanyId','custpincodecategory','claimtype','custpincode','claimintdate']]\n",
    "y=data['tat_in_days']\n",
    "\n",
    "from sklearn.model_selection import train_test_split\n",
    "\n",
    "X_train,X_test,y_train,y_test=train_test_split(X,y,random_state=1)\n",
    "\n",
    "from sklearn.linear_model import Ridge\n",
    "clf = Ridge(alpha=1.0)\n",
    "clf.fit(X_train, y_train)\n",
    "y_expect=y_test\n",
    "y_pred=clf.predict(X_test)\n",
    "\n",
    "np.sqrt(metrics.mean_squared_error(y_pred,y_test))"
   ]
  },
  {
   "cell_type": "markdown",
   "metadata": {},
   "source": [
    "# So we see that gradient regression gives minimum RMSE "
   ]
  },
  {
   "cell_type": "markdown",
   "metadata": {},
   "source": [
    "# reading of data"
   ]
  },
  {
   "cell_type": "code",
   "execution_count": 8,
   "metadata": {},
   "outputs": [],
   "source": [
    "data1 = pd.read_csv(\"problem_2_test.csv\")"
   ]
  },
  {
   "cell_type": "markdown",
   "metadata": {},
   "source": [
    "# changing date to numeric form"
   ]
  },
  {
   "cell_type": "code",
   "execution_count": 9,
   "metadata": {},
   "outputs": [],
   "source": [
    "data1['memcreateddate']=pd.to_datetime(data1['memcreateddate'])\n",
    "data1['memcreateddate']=pd.to_numeric(data1['memcreateddate'])\n",
    "\n",
    "\n",
    "data1['claimintdate']=pd.to_datetime(data1['claimintdate'])\n",
    "data1['claimintdate']=pd.to_numeric(data1['claimintdate'])\n",
    "\n",
    "\n",
    "data1['pickupStartdate']=pd.to_datetime(data1['pickupStartdate'])\n",
    "data1['pickupStartdate']=pd.to_numeric(data1['pickupStartdate'])\n",
    "\n",
    "\n",
    "data1['mobilepurchasedate']=pd.to_datetime(data1['mobilepurchasedate'])\n",
    "data1['mobilepurchasedate']=pd.to_numeric(data1['mobilepurchasedate'])"
   ]
  },
  {
   "cell_type": "markdown",
   "metadata": {},
   "source": [
    "# Changing Label to int form"
   ]
  },
  {
   "cell_type": "code",
   "execution_count": 10,
   "metadata": {},
   "outputs": [],
   "source": [
    "a=data1.claimtype[0]\n",
    "def x(types):\n",
    "    if types== a:\n",
    "        types= 1\n",
    "    else:\n",
    "        types=2\n",
    "    return types\n",
    "data1['claimtype']=data1['claimtype'].apply(x)\n",
    "\n",
    "from sklearn.preprocessing import LabelEncoder\n",
    "labelEncoder = LabelEncoder()\n",
    "data1['mobmake'] = labelEncoder.fit_transform(data1['mobmake'])\n",
    "data1['custpincodecategory']=labelEncoder.fit_transform(data1['custpincodecategory'])"
   ]
  },
  {
   "cell_type": "markdown",
   "metadata": {},
   "source": [
    "# Creating new column predicted"
   ]
  },
  {
   "cell_type": "code",
   "execution_count": 11,
   "metadata": {},
   "outputs": [],
   "source": [
    "\n",
    "Xtest=data1[['mobmake','srno','hubid','hubpincode','deliverypartnerid','insuranceCompanyId','custpincodecategory','claimtype','custpincode','claimintdate']]\n",
    "data1['predicted']=grade.predict(Xtest)\n"
   ]
  },
  {
   "cell_type": "markdown",
   "metadata": {},
   "source": [
    "# converting date to int value"
   ]
  },
  {
   "cell_type": "code",
   "execution_count": 12,
   "metadata": {},
   "outputs": [],
   "source": [
    "data1['predicted']=data1['predicted'].astype(int)"
   ]
  },
  {
   "cell_type": "markdown",
   "metadata": {},
   "source": [
    "# reating new Csv file and added predicted column"
   ]
  },
  {
   "cell_type": "code",
   "execution_count": 13,
   "metadata": {},
   "outputs": [],
   "source": [
    "data1.to_csv(\"problem_2_test_new.csv\",index=False,sep=',')"
   ]
  }
 ],
 "metadata": {
  "kernelspec": {
   "display_name": "Python 3",
   "language": "python",
   "name": "python3"
  },
  "language_info": {
   "codemirror_mode": {
    "name": "ipython",
    "version": 3
   },
   "file_extension": ".py",
   "mimetype": "text/x-python",
   "name": "python",
   "nbconvert_exporter": "python",
   "pygments_lexer": "ipython3",
   "version": "3.7.3"
  }
 },
 "nbformat": 4,
 "nbformat_minor": 2
}
